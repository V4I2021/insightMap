{
 "cells": [
  {
   "cell_type": "code",
   "execution_count": 1,
   "id": "b69742a5",
   "metadata": {},
   "outputs": [],
   "source": [
    "import pandas as pd\n",
    "import math\n",
    "import numpy as np\n",
    "import time\n",
    "\n",
    "import seaborn as sns\n",
    "\n",
    "import numpy as np\n",
    "from sklearn.manifold import TSNE\n",
    "from sklearn.manifold import MDS\n",
    "\n",
    "from sklearn.manifold import spectral_embedding"
   ]
  },
  {
   "cell_type": "code",
   "execution_count": 2,
   "id": "49272993",
   "metadata": {},
   "outputs": [],
   "source": [
    "name = 'NBA'\n",
    "output_folder  = '{}/{}'.format('data', name)\n",
    "simFile = '{}/similarity'.format(output_folder)"
   ]
  },
  {
   "cell_type": "code",
   "execution_count": 3,
   "id": "73d6ceac",
   "metadata": {},
   "outputs": [
    {
     "name": "stderr",
     "output_type": "stream",
     "text": [
      "C:\\ProgramData\\Anaconda3\\lib\\site-packages\\IPython\\core\\interactiveshell.py:3444: DtypeWarning: Columns (1,3) have mixed types.Specify dtype option on import or set low_memory=False.\n",
      "  exec(code_obj, self.user_global_ns, self.user_ns)\n"
     ]
    }
   ],
   "source": [
    "insight_df = pd.read_csv('./rawData/{}/insight.csv'.format(name))\n",
    "subspace_df = pd.read_csv('./rawData/{}/subspace.csv'.format(name))\n",
    "\n",
    "# insight_columns: insights columns\n",
    "# subspace_columns: subspaces\n",
    "\n",
    "insight_columns = insight_df.columns[:10]\n",
    "subspace_columns = subspace_df.columns\n",
    "\n",
    "result_df = insight_df[insight_columns].merge(subspace_df, left_on='sid', right_on='sid')\n",
    "result_df['index'] = result_df.index"
   ]
  },
  {
   "cell_type": "code",
   "execution_count": 4,
   "id": "27e27c2e",
   "metadata": {},
   "outputs": [
    {
     "data": {
      "text/plain": [
       "Index(['breakdown', 'breakdown_value', 'measure', 'sig', 'impact', 'insight',\n",
       "       'insight_type', 'score', 'iid', 'sid', 'name', 'year', 'team_name',\n",
       "       'age', 'lg_name', 'pos_name', 'index'],\n",
       "      dtype='object')"
      ]
     },
     "execution_count": 4,
     "metadata": {},
     "output_type": "execute_result"
    }
   ],
   "source": [
    "result_df.columns"
   ]
  },
  {
   "cell_type": "code",
   "execution_count": 5,
   "id": "1b98ff70",
   "metadata": {},
   "outputs": [],
   "source": [
    "# A: features used  to calculate similarity\n",
    "# M: the size of data\n",
    "\n",
    "A = list(subspace_columns)[:-1] + ['breakdown', 'measure', 'insight'] \n",
    "N = result_df.shape[0]"
   ]
  },
  {
   "cell_type": "code",
   "execution_count": 6,
   "id": "5f34b860",
   "metadata": {},
   "outputs": [],
   "source": [
    "subspace_range = [0, len(subspace_columns)]"
   ]
  },
  {
   "cell_type": "code",
   "execution_count": 7,
   "id": "07499351",
   "metadata": {},
   "outputs": [
    {
     "name": "stdout",
     "output_type": "stream",
     "text": [
      "['name', 'year', 'team_name', 'age', 'lg_name', 'pos_name', 'breakdown', 'measure', 'insight']\n",
      "7 9\n"
     ]
    }
   ],
   "source": [
    "subspace_len = len(subspace_columns)\n",
    "print(A)\n",
    "print(subspace_len, len(A))"
   ]
  },
  {
   "cell_type": "code",
   "execution_count": 34,
   "id": "be196d8b",
   "metadata": {},
   "outputs": [],
   "source": [
    "# function f(k, x); funciton p(k, x) p2(k, x)\n",
    "\n",
    "kx_map = {}\n",
    "for (k, a) in enumerate(A):\n",
    "    if k not in kx_map:\n",
    "        kx_map[k] = {}\n",
    "    x_count = result_df[[a, 'index']].groupby(a).count().reset_index()\n",
    "    for obj in x_count.to_dict('records'):\n",
    "        kx_map[k][obj[a]] = obj['index']\n",
    "        \n",
    "        \n",
    "def f(k, x):\n",
    "    if k not in kx_map:\n",
    "        return False\n",
    "    if x not in kx_map[k]:\n",
    "        return 0\n",
    "    return kx_map[k][x]\n",
    "\n",
    "insight_records= result_df.to_dict('records')\n",
    "\n",
    "def p(k, x):\n",
    "    fkx = f(k, x)\n",
    "    if fkx == False:\n",
    "        return False\n",
    "    return fkx / N\n",
    "\n",
    "def p2(k, x):\n",
    "    fkx = f(k,x)\n",
    "    if fkx == False:\n",
    "        return False\n",
    "    return fkx * (fkx-1) / (N * (N-1)) \n",
    "\n",
    "def linw(src, dst):\n",
    "    s = 0\n",
    "    for (k, a) in enumerate(A):\n",
    "        Xk, Yk =  src[a], dst[a]\n",
    "        s += (np.log(p(k, Xk)) + np.log(p(k, Yk))) \n",
    "    return 1/s \n",
    "\n",
    "def linS(k, src, dst):\n",
    "    key = A[k]\n",
    "    Xk, Yk = src[key], dst[key]\n",
    "    if Xk == Yk:\n",
    "        return 2 * np.log(p(k, Xk))\n",
    "    return 2*np.log2(p(k, Xk) + p(k, Yk))\n",
    "\n",
    "# def lin(src, dst):\n",
    "#     w = linw(src, dst)\n",
    "#     sim = 0\n",
    "#     print(w)\n",
    "#     for (k, a) in enumerate(A):\n",
    "# #         if k < subspace_len:\n",
    "# #             w *= 1 / len(subspace_columns)\n",
    "#         print('---', A[k], linS(k, src, dst), w*linS(k, src, dst), src[a], dst[a])\n",
    "#         sim += w*(linS(k, src, dst))\n",
    "#     print(\"sum\", sim)\n",
    "#     print('\\n')\n",
    "#     return sim\n",
    "\n",
    "def lin(src, dst):\n",
    "    w = linw(src, dst)\n",
    "    sim = 0\n",
    "    print(w)\n",
    "    for (k, a) in enumerate(A):\n",
    "#         if k < subspace_len:\n",
    "#             w = w*( 1 / len(subspace_columns))\n",
    "             \n",
    "        print('---', A[k], linS(k, src, dst), w*linS(k, src, dst), src[a], dst[a])\n",
    "        sim += w*(linS(k, src, dst))\n",
    "    print(\"sum\", sim)\n",
    "    print('\\n')\n",
    "    return sim\n",
    "\n"
   ]
  },
  {
   "cell_type": "code",
   "execution_count": 35,
   "id": "8ed2f15e",
   "metadata": {
    "scrolled": true
   },
   "outputs": [
    {
     "name": "stdout",
     "output_type": "stream",
     "text": [
      "-0.04936865299109286\n",
      "--- name 0.0 -0.0 * *\n",
      "--- year 0.0 -0.0 * *\n",
      "--- team_name -10.756720148443145 0.5310447843307865 Chicago Bulls Chicago Bulls\n",
      "--- age -0.7803952719547518 0.03852706337702368 * *\n",
      "--- lg_name -0.04023072259415164 0.0019861365833315917 NBA *\n",
      "--- pos_name -0.6315300823892126 0.03117778949090932 * *\n",
      "--- breakdown -1.3557594168583138 0.06693201619028451 year year\n",
      "--- measure -1.5463797764669633 0.07634268657684126 PTS PTS\n",
      "--- insight -3.7436043538031827 0.18481670427885374 Trend Trend\n",
      "sum 0.9308271808280307\n",
      "\n",
      "\n",
      "[[1.         0.93082718 0.         ... 0.         0.         0.        ]\n",
      " [0.93082718 0.         0.         ... 0.         0.         0.        ]\n",
      " [0.         0.         0.         ... 0.         0.         0.        ]\n",
      " ...\n",
      " [0.         0.         0.         ... 0.         0.         0.        ]\n",
      " [0.         0.         0.         ... 0.         0.         0.        ]\n",
      " [0.         0.         0.         ... 0.         0.         0.        ]]\n",
      "-0.04585816865240907\n",
      "--- name 0.0 -0.0 * *\n",
      "--- year 0.0 -0.0 * *\n",
      "--- team_name -10.756720148443145 0.49328348671407246 Chicago Bulls Chicago Bulls\n",
      "--- age -0.7803952719547518 0.03578749799684365 * *\n",
      "--- lg_name -0.04023072259415164 0.00184490726173089 NBA *\n",
      "--- pos_name -0.6315300823892126 0.028960813027274306 * *\n",
      "--- breakdown -1.4008794362821841 0.06424176545072015 year lg_name\n",
      "--- measure -1.5463797764669633 0.07091414458989664 PTS PTS\n",
      "--- insight -3.4008794362821844 0.15595810275553829 Trend Attribution\n",
      "sum 0.8509907177960763\n",
      "\n",
      "\n",
      "[[1.         0.93082718 0.85099072 ... 0.         0.         0.        ]\n",
      " [0.93082718 0.         0.         ... 0.         0.         0.        ]\n",
      " [0.85099072 0.         0.         ... 0.         0.         0.        ]\n",
      " ...\n",
      " [0.         0.         0.         ... 0.         0.         0.        ]\n",
      " [0.         0.         0.         ... 0.         0.         0.        ]\n",
      " [0.         0.         0.         ... 0.         0.         0.        ]]\n",
      "-0.05040765952364167\n",
      "--- name 0.0 -0.0 * *\n",
      "--- year 0.0 -0.0 * *\n",
      "--- team_name -0.734031968831801 0.03700083356434178 Chicago Bulls *\n",
      "--- age -1.0997600831314216 0.055436331828180564 * 21\n",
      "--- lg_name -0.04023072259415164 0.002027936566916074 NBA *\n",
      "--- pos_name -0.6315300823892126 0.0318339533720128 * *\n",
      "--- breakdown -1.3557594168583138 0.06834065908096486 year year\n",
      "--- measure -1.5463797764669633 0.07794938526639181 PTS PTS\n",
      "--- insight -3.7436043538031827 0.18870633365773343 Trend Trend\n",
      "sum 0.46129543333654127\n",
      "\n",
      "\n",
      "[[1.         0.93082718 0.85099072 ... 0.         0.         0.        ]\n",
      " [0.93082718 0.         0.         ... 0.         0.         0.        ]\n",
      " [0.85099072 0.         0.         ... 0.         0.         0.        ]\n",
      " ...\n",
      " [0.         0.         0.         ... 0.         0.         0.        ]\n",
      " [0.         0.         0.         ... 0.         0.         0.        ]\n",
      " [0.         0.         0.         ... 0.         0.         0.        ]]\n",
      "-0.04994861165530232\n",
      "--- name 0.0 -0.0 * *\n",
      "--- year 0.0 -0.0 * *\n",
      "--- team_name -0.734031968831801 0.03666387775375661 Chicago Bulls *\n",
      "--- age -1.0997600831314216 0.054931489306334375 * 21\n",
      "--- lg_name -0.04023072259415164 0.002009468739467477 NBA *\n",
      "--- pos_name -0.6315300823892126 0.03154405083389986 * *\n",
      "--- breakdown -1.3557594168583138 0.06771830061067505 year year\n",
      "--- measure -0.48201619900758946 0.024076039935795008 PTS AST\n",
      "--- insight -3.7436043538031827 0.18698784005921418 Trend Trend\n",
      "sum 0.40393106723914257\n",
      "\n",
      "\n",
      "[[1.         0.93082718 0.85099072 ... 0.         0.         0.        ]\n",
      " [0.93082718 0.         0.         ... 0.         0.         0.        ]\n",
      " [0.85099072 0.         0.         ... 0.         0.         0.        ]\n",
      " ...\n",
      " [0.         0.         0.         ... 0.         0.         0.        ]\n",
      " [0.         0.         0.         ... 0.         0.         0.        ]\n",
      " [0.         0.         0.         ... 0.         0.         0.        ]]\n",
      "-0.050645879938554926\n",
      "--- name 0.0 -0.0 * *\n",
      "--- year 0.0 -0.0 * *\n",
      "--- team_name -12.688591815831634 0.6426248976939396 Chicago Bulls Portland Trail Blazers\n",
      "--- age -0.7803952719547518 0.03952380524803628 * *\n",
      "--- lg_name -0.04023072259415164 0.002037520346344713 NBA *\n",
      "--- pos_name -0.6315300823892126 0.03198439673026976 * *\n",
      "--- breakdown -1.3557594168583138 0.0686636286517714 year year\n",
      "--- measure -1.5463797764669633 0.07831776449835523 PTS PTS\n",
      "--- insight -3.7436043538031827 0.18959813664016748 Trend Trend\n",
      "sum 1.0527501498088847\n",
      "\n",
      "\n",
      "[[1.         0.93082718 0.85099072 ... 0.         0.         0.        ]\n",
      " [0.93082718 0.         0.         ... 0.         0.         0.        ]\n",
      " [0.85099072 0.         0.         ... 0.         0.         0.        ]\n",
      " ...\n",
      " [0.         0.         0.         ... 0.         0.         0.        ]\n",
      " [0.         0.         0.         ... 0.         0.         0.        ]\n",
      " [0.         0.         0.         ... 0.         0.         0.        ]]\n",
      "use time  0.007950782775878906\n"
     ]
    }
   ],
   "source": [
    "simMatrix = np.zeros((N, N))\n",
    "start_time = time.time()\n",
    "\n",
    "for i in range(0, len(insight_records)):\n",
    "    src = insight_records[i]\n",
    "    for j in range(i, len(insight_records)):\n",
    "        if i == j:\n",
    "            simMatrix[i][j] = 1\n",
    "        else:\n",
    "            dst = insight_records[j]\n",
    "            simMatrix[i][j] = float(lin(src, dst))\n",
    "            simMatrix[j][i] = simMatrix[i][j]\n",
    "            print(simMatrix)\n",
    "        if j > 4:\n",
    "            break\n",
    "    break\n",
    "end_time = time.time()\n",
    "print('use time ', end_time - start_time)"
   ]
  },
  {
   "cell_type": "code",
   "execution_count": 21,
   "id": "f7687261",
   "metadata": {},
   "outputs": [
    {
     "data": {
      "text/plain": [
       "array([[1.        , 0.93082718, 0.85099072, ..., 1.06631311, 0.42944929,\n",
       "        0.49941768],\n",
       "       [0.93082718, 1.        , 0.91394013, ..., 0.99786655, 0.39597731,\n",
       "        0.46070161],\n",
       "       [0.85099072, 0.91394013, 1.        , ..., 0.91285233, 0.36040543,\n",
       "        0.41421397],\n",
       "       ...,\n",
       "       [1.06631311, 0.99786655, 0.91285233, ..., 1.        , 0.48987836,\n",
       "        0.57161326],\n",
       "       [0.42944929, 0.39597731, 0.36040543, ..., 0.48987836, 1.        ,\n",
       "        0.8506611 ],\n",
       "       [0.49941768, 0.46070161, 0.41421397, ..., 0.57161326, 0.8506611 ,\n",
       "        1.        ]])"
      ]
     },
     "execution_count": 21,
     "metadata": {},
     "output_type": "execute_result"
    }
   ],
   "source": [
    "simMatrix"
   ]
  },
  {
   "cell_type": "code",
   "execution_count": 22,
   "id": "6446eb97",
   "metadata": {},
   "outputs": [],
   "source": [
    "# def generate_projection(sim_matrix, perplexity = 12):\n",
    "    \n",
    "#     st = time.time()\n",
    "#     X_embedded = TSNE(n_components=2, \n",
    "#                    init='random', perplexity=perplexity).fit_transform(sim_matrix)\n",
    "\n",
    "# #     X_embedded = MDS(n_components=2).fit_transform(sim_matrix)\n",
    "    \n",
    "# #     X_embedded = spectral_embedding(sim_matrix, n_components=2)\n",
    "#     print(time.time() - st)\n",
    "#     return X_embedded\n",
    "\n",
    "def visualize_matrix(projection):\n",
    "    df = pd.DataFrame(columns=['x', 'y'], data=projection)\n",
    "    sns.scatterplot(data=df, x=\"x\", y=\"y\")\n",
    "\n",
    "def calc_projection(sim, index_list, perplexity = 50):\n",
    "    matrix = sim if type(sim) != str else np.load(simFile.format(output_folder, 'npz'))\n",
    "    sub_matrix = matrix[index_list][:, index_list]\n",
    "    X_embedded = generate_projection(sub_matrix, perplexity)\n",
    "    return X_embedded"
   ]
  },
  {
   "cell_type": "code",
   "execution_count": 30,
   "id": "6eb613e0",
   "metadata": {},
   "outputs": [],
   "source": [
    "def generate_projection(sim_matrix, perplexity = 12):\n",
    "    \n",
    "    st = time.time()\n",
    "#     X_embedded = TSNE(n_components=2, \n",
    "#                    init='random', perplexity=perplexity).fit_transform(sim_matrix)\n",
    "\n",
    "    X_embedded = MDS(n_components=2).fit_transform(sim_matrix)\n",
    "    \n",
    "#     X_embedded = spectral_embedding(sim_matrix, n_components=2)\n",
    "    print(time.time() - st)\n",
    "    return X_embedded\n"
   ]
  },
  {
   "cell_type": "code",
   "execution_count": 31,
   "id": "1da616a9",
   "metadata": {
    "scrolled": false
   },
   "outputs": [
    {
     "name": "stderr",
     "output_type": "stream",
     "text": [
      "C:\\ProgramData\\Anaconda3\\lib\\site-packages\\sklearn\\manifold\\_mds.py:441: UserWarning: The MDS API has changed. ``fit`` now constructs an dissimilarity matrix from data. To use a custom dissimilarity matrix, set ``dissimilarity='precomputed'``.\n",
      "  warnings.warn(\"The MDS API has changed. ``fit`` now constructs an\"\n"
     ]
    },
    {
     "name": "stdout",
     "output_type": "stream",
     "text": [
      "6.409987211227417\n"
     ]
    },
    {
     "data": {
      "image/png": "[encoded data removed]",
      "text/plain": [
       "<Figure size 432x288 with 1 Axes>"
      ]
     },
     "metadata": {
      "needs_background": "light"
     },
     "output_type": "display_data"
    }
   ],
   "source": [
    "projection = calc_projection(simMatrix, [i for i in range(0, 650)], perplexity=15)\n",
    "visualize_matrix(projection)"
   ]
  },
  {
   "cell_type": "code",
   "execution_count": null,
   "id": "7dc2a20b",
   "metadata": {},
   "outputs": [],
   "source": []
  },
  {
   "cell_type": "code",
   "execution_count": null,
   "id": "d2fe9b89",
   "metadata": {},
   "outputs": [],
   "source": []
  },
  {
   "cell_type": "code",
   "execution_count": null,
   "id": "7e0012b6",
   "metadata": {},
   "outputs": [],
   "source": []
  },
  {
   "cell_type": "code",
   "execution_count": 17,
   "id": "5c7b411b",
   "metadata": {},
   "outputs": [],
   "source": [
    "# np.savez(\"{}/{}.npz\".format(output_folder, 'projection'), projection = projection)"
   ]
  },
  {
   "cell_type": "code",
   "execution_count": null,
   "id": "fe053bc0",
   "metadata": {},
   "outputs": [],
   "source": [
    "type('123') == str"
   ]
  },
  {
   "cell_type": "code",
   "execution_count": null,
   "id": "94ffb543",
   "metadata": {},
   "outputs": [],
   "source": [
    "emb = calc_projection(simMatrix, [i for i in range(0, 649)], perplexity=12)\n",
    "visualize_matrix(emb)"
   ]
  },
  {
   "cell_type": "code",
   "execution_count": null,
   "id": "16553823",
   "metadata": {},
   "outputs": [],
   "source": [
    "test_index = [0, 1, 2, 3, 4, 5, 6, 7, 8, 9, 10]\n",
    "test_index = [i for i in range(0, 374)]\n",
    "sub_similarity = simMatrix[test_index][:, test_index]"
   ]
  },
  {
   "cell_type": "code",
   "execution_count": null,
   "id": "77ca4442",
   "metadata": {},
   "outputs": [],
   "source": [
    "sub_similarity"
   ]
  },
  {
   "cell_type": "code",
   "execution_count": null,
   "id": "e24b6a67",
   "metadata": {},
   "outputs": [],
   "source": [
    "X_embedded = generate_projection(sub_similarity, 99)\n",
    "visualize_matrix(X_embedded)"
   ]
  },
  {
   "cell_type": "code",
   "execution_count": null,
   "id": "5ee990f6",
   "metadata": {},
   "outputs": [],
   "source": [
    "simMatrix[[1,2,3]][:, [1,2,3]].shape"
   ]
  },
  {
   "cell_type": "code",
   "execution_count": null,
   "id": "d95ddc06",
   "metadata": {},
   "outputs": [],
   "source": [
    "simMatrix[[1,5,7]][:, [1,5,7]]"
   ]
  },
  {
   "cell_type": "code",
   "execution_count": null,
   "id": "a639980d",
   "metadata": {},
   "outputs": [],
   "source": [
    "simMatrix[[1]]"
   ]
  },
  {
   "cell_type": "markdown",
   "id": "6b236ace",
   "metadata": {},
   "source": [
    "## Save similarity matrix"
   ]
  },
  {
   "cell_type": "code",
   "execution_count": null,
   "id": "183eb8ce",
   "metadata": {},
   "outputs": [],
   "source": [
    "\n",
    "start_time = time.time()\n",
    "X_embedded = TSNE(n_components=2, \n",
    "                   init='random', perplexity=12).fit_transform(simMatrix)\n",
    "print(\"Use time: \", time.time() - start_time)\n",
    "\n",
    "projection = pd.DataFrame(columns=['x', 'y'], data = X_embedded)\n",
    "sns.scatterplot(data=projection, x=\"x\", y=\"y\")"
   ]
  },
  {
   "cell_type": "code",
   "execution_count": null,
   "id": "a552d40b",
   "metadata": {},
   "outputs": [],
   "source": []
  },
  {
   "cell_type": "code",
   "execution_count": null,
   "id": "189a072f",
   "metadata": {},
   "outputs": [],
   "source": []
  },
  {
   "cell_type": "code",
   "execution_count": null,
   "id": "a9c02434",
   "metadata": {},
   "outputs": [],
   "source": []
  },
  {
   "cell_type": "code",
   "execution_count": null,
   "id": "ceaa364a",
   "metadata": {},
   "outputs": [],
   "source": [
    "result_df[['x', 'y']] = projection.values\n",
    "result_df.to_csv('projection.csv', index = False)"
   ]
  },
  {
   "cell_type": "code",
   "execution_count": null,
   "id": "9638bf57",
   "metadata": {},
   "outputs": [],
   "source": [
    "def generate_projection():\n",
    "    pass"
   ]
  },
  {
   "cell_type": "markdown",
   "id": "7b97824d",
   "metadata": {},
   "source": [
    "## process subspace"
   ]
  },
  {
   "cell_type": "code",
   "execution_count": null,
   "id": "9df94bff",
   "metadata": {},
   "outputs": [],
   "source": [
    "sub_df = result_df[result_df['team_name'] == 'Los Angeles Lakers']\n",
    "\n",
    "sub_N = sub_df.shape[0]\n",
    "sub_simMatrix = np.zeros((sub_N, sub_N))\n",
    "start_time = time.time()\n",
    "sub_insight_records = sub_df.to_dict('records')\n",
    "for i in range(0, len(sub_insight_records)):\n",
    "    src = sub_insight_records[i]\n",
    "    for j in range(i+1, len(sub_insight_records)):\n",
    "        dst = sub_insight_records[j]\n",
    "        sub_simMatrix[i][j] = float(lin(src, dst))\n",
    "        sub_simMatrix[j][i] = sub_simMatrix[i][j]\n",
    "\n",
    "end_time = time.time()\n",
    "print('use time ', end_time - start_time)"
   ]
  },
  {
   "cell_type": "code",
   "execution_count": null,
   "id": "a67bc71b",
   "metadata": {},
   "outputs": [],
   "source": [
    "tart_time = time.time()\n",
    "sub_embedded = TSNE(n_components=2, \n",
    "                   init='random', perplexity=5).fit_transform(sub_simMatrix)\n",
    "print(\"Use time: \", time.time() - start_time)\n",
    "\n",
    "sub_projection = pd.DataFrame(columns=['x', 'y'], data = sub_embedded)\n",
    "sns.scatterplot(data=sub_projection, x=\"x\", y=\"y\")"
   ]
  },
  {
   "cell_type": "code",
   "execution_count": null,
   "id": "5969c1e4",
   "metadata": {},
   "outputs": [],
   "source": [
    "sub_df[['x', 'y']] = sub_projection.values\n",
    "sub_df.to_csv('subspace.csv', index = False)"
   ]
  },
  {
   "cell_type": "markdown",
   "id": "25211ca0",
   "metadata": {},
   "source": [
    "## breakdown subspace"
   ]
  },
  {
   "cell_type": "code",
   "execution_count": null,
   "id": "7859a60c",
   "metadata": {},
   "outputs": [],
   "source": [
    "result_df['breakdown'].unique()"
   ]
  },
  {
   "cell_type": "code",
   "execution_count": null,
   "id": "3a32e501",
   "metadata": {},
   "outputs": [],
   "source": [
    "result_df[['breakdown','age']].groupby('breakdown').count()"
   ]
  },
  {
   "cell_type": "code",
   "execution_count": null,
   "id": "bc1c5560",
   "metadata": {},
   "outputs": [],
   "source": [
    "result_df[['lg_name','age']].groupby('lg_name').count()"
   ]
  },
  {
   "cell_type": "code",
   "execution_count": null,
   "id": "5a9f480d",
   "metadata": {},
   "outputs": [],
   "source": [
    "breakdown_df = result_df[result_df['breakdown'] == 'lg_name']\n",
    "\n",
    "breakdown_N = breakdown_df.shape[0]\n",
    "breakdown_simMatrix = np.zeros((breakdown_N, breakdown_N))\n",
    "start_time = time.time()\n",
    "breakdown_insight_records = breakdown_df.to_dict('records')\n",
    "for i in range(0, len(breakdown_insight_records)):\n",
    "    src = breakdown_insight_records[i]\n",
    "    for j in range(i+1, len(breakdown_insight_records)):\n",
    "        dst = breakdown_insight_records[j]\n",
    "        breakdown_simMatrix[i][j] = float(lin(src, dst))\n",
    "        breakdown_simMatrix[j][i] = breakdown_simMatrix[i][j]\n",
    "        \n",
    "\n",
    "end_time = time.time()\n",
    "print('use time ', end_time - start_time)"
   ]
  },
  {
   "cell_type": "code",
   "execution_count": null,
   "id": "2e3b9f41",
   "metadata": {},
   "outputs": [],
   "source": [
    "tart_time = time.time()\n",
    "breakdown_embedded = TSNE(n_components=2, \n",
    "                   init='random', perplexity=50).fit_transform(breakdown_simMatrix)\n",
    "print(\"Use time: \", time.time() - start_time)\n",
    "\n",
    "breakdown_projection = pd.DataFrame(columns=['x', 'y'], data = breakdown_embedded)\n",
    "sns.scatterplot(data=breakdown_projection, x=\"x\", y=\"y\")"
   ]
  },
  {
   "cell_type": "code",
   "execution_count": null,
   "id": "58c2b3b2",
   "metadata": {},
   "outputs": [],
   "source": [
    "breakdown_df[['x', 'y']] = breakdown_projection.values\n",
    "breakdown_df.to_csv('breakdown.csv', index = False)"
   ]
  },
  {
   "cell_type": "markdown",
   "id": "6c0dc819",
   "metadata": {},
   "source": [
    "## breakdown  and  subspace"
   ]
  },
  {
   "cell_type": "code",
   "execution_count": null,
   "id": "dac5d60e",
   "metadata": {},
   "outputs": [],
   "source": [
    "bs_df = result_df[(result_df['breakdown'] == 'lg_name')&(result_df['team_name'] == 'Los Angeles Lakers')]\n",
    "\n",
    "bs_N = bs_df.shape[0]\n",
    "bs_simMatrix = np.zeros((bs_N, bs_N))\n",
    "start_time = time.time()\n",
    "bs_insight_records = bs_df.to_dict('records')\n",
    "for i in range(0, len(bs_insight_records)):\n",
    "    src = bs_insight_records[i]\n",
    "    for j in range(i+1, len(bs_insight_records)):\n",
    "        dst = bs_insight_records[j]\n",
    "        bs_simMatrix[i][j] = float(lin(src, dst))\n",
    "        bs_simMatrix[j][i] = bs_simMatrix[i][j]\n",
    "        \n",
    "\n",
    "# end_time = time.time()\n",
    "# print('use time ', end_time - start_time)"
   ]
  },
  {
   "cell_type": "code",
   "execution_count": null,
   "id": "b5d612f6",
   "metadata": {},
   "outputs": [],
   "source": [
    "tart_time = time.time()\n",
    "bs_embedded = TSNE(n_components=2, \n",
    "                   init='random', perplexity=50).fit_transform(bs_simMatrix)\n",
    "print(\"Use time: \", time.time() - start_time)\n",
    "\n",
    "bs_projection = pd.DataFrame(columns=['x', 'y'], data = bs_embedded)\n",
    "sns.scatterplot(data=bs_projection, x=\"x\", y=\"y\")"
   ]
  },
  {
   "cell_type": "code",
   "execution_count": null,
   "id": "45b33837",
   "metadata": {},
   "outputs": [],
   "source": [
    "bs_df[['x', 'y']] = bs_projection.values\n",
    "bs_df.to_csv('bs.csv', index = False)"
   ]
  },
  {
   "cell_type": "code",
   "execution_count": null,
   "id": "f7d1b6ed",
   "metadata": {},
   "outputs": [],
   "source": []
  },
  {
   "cell_type": "code",
   "execution_count": null,
   "id": "a1c56397",
   "metadata": {},
   "outputs": [],
   "source": []
  },
  {
   "cell_type": "code",
   "execution_count": null,
   "id": "af235c62",
   "metadata": {},
   "outputs": [],
   "source": []
  },
  {
   "cell_type": "code",
   "execution_count": null,
   "id": "84081b94",
   "metadata": {},
   "outputs": [],
   "source": [
    "result_df['year'].shape"
   ]
  },
  {
   "cell_type": "code",
   "execution_count": null,
   "id": "70904f73",
   "metadata": {},
   "outputs": [],
   "source": []
  }
 ],
 "metadata": {
  "kernelspec": {
   "display_name": "Python 3 (ipykernel)",
   "language": "python",
   "name": "python3"
  },
  "language_info": {
   "codemirror_mode": {
    "name": "ipython",
    "version": 3
   },
   "file_extension": ".py",
   "mimetype": "text/x-python",
   "name": "python",
   "nbconvert_exporter": "python",
   "pygments_lexer": "ipython3",
   "version": "3.9.7"
  }
 },
 "nbformat": 4,
 "nbformat_minor": 5
}
