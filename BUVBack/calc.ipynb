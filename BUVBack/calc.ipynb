{
 "cells": [
  {
   "cell_type": "code",
   "execution_count": 5,
   "id": "b69742a5",
   "metadata": {},
   "outputs": [],
   "source": [
    "import pandas as pd\n",
    "import math\n",
    "import numpy as np\n",
    "import time\n",
    "\n",
    "import seaborn as sns"
   ]
  },
  {
   "cell_type": "code",
   "execution_count": 6,
   "id": "49272993",
   "metadata": {},
   "outputs": [],
   "source": [
    "name = 'NBA'\n",
    "output_folder  = '{}/{}'.format('data', name)\n",
    "simFile = '{}/similarity'.format(output_folder)"
   ]
  },
  {
   "cell_type": "code",
   "execution_count": 7,
   "id": "73d6ceac",
   "metadata": {},
   "outputs": [],
   "source": [
    "insight_df = pd.read_csv('./rawData/{}/insight.csv'.format(name))\n",
    "subspace_df = pd.read_csv('./rawData/{}/subspace.csv'.format(name))\n",
    "\n",
    "# insight_columns: insights columns\n",
    "# subspace_columns: subspaces\n",
    "\n",
    "insight_columns = insight_df.columns[:10]\n",
    "subspace_columns = subspace_df.columns\n",
    "\n",
    "result_df = insight_df[insight_columns].merge(subspace_df, left_on='sid', right_on='sid')\n",
    "result_df['index'] = result_df.index"
   ]
  },
  {
   "cell_type": "code",
   "execution_count": 8,
   "id": "1b98ff70",
   "metadata": {},
   "outputs": [],
   "source": [
    "# A: features used  to calculate similarity\n",
    "# M: the size of data\n",
    "\n",
    "A = ['breakdown', 'measure'] + list(subspace_columns)[:-1]\n",
    "N = result_df.shape[0]"
   ]
  },
  {
   "cell_type": "code",
   "execution_count": 9,
   "id": "be196d8b",
   "metadata": {},
   "outputs": [],
   "source": [
    "# function f(k, x); funciton p(k, x) p2(k, x)\n",
    "\n",
    "kx_map = {}\n",
    "for (k, a) in enumerate(A):\n",
    "    if k not in kx_map:\n",
    "        kx_map[k] = {}\n",
    "    x_count = result_df[[a, 'index']].groupby(a).count().reset_index()\n",
    "    for obj in x_count.to_dict('records'):\n",
    "        kx_map[k][obj[a]] = obj['index']\n",
    "        \n",
    "        \n",
    "def f(k, x):\n",
    "    if k not in kx_map:\n",
    "        return False\n",
    "    if x not in kx_map[k]:\n",
    "        return 0\n",
    "    return kx_map[k][x]\n",
    "\n",
    "insight_records= result_df.to_dict('records')\n",
    "\n",
    "def p(k, x):\n",
    "    fkx = f(k, x)\n",
    "    if fkx == False:\n",
    "        return False\n",
    "    return fkx / N\n",
    "\n",
    "def p2(k, x):\n",
    "    fkx = f(k,x)\n",
    "    if fkx == False:\n",
    "        return False\n",
    "    return fkx * (fkx-1) / (N * (N-1)) \n",
    "\n",
    "def linw(src, dst):\n",
    "    s = 0\n",
    "    for (k, a) in enumerate(A):\n",
    "        Xk, Yk =  src[a], dst[a]\n",
    "        s += (np.log(p(k, Xk)) + np.log(p(k, Yk))) \n",
    "    return 1/s \n",
    "\n",
    "def linS(k, src, dst):\n",
    "    key = A[k]\n",
    "    Xk, Yk = src[key], dst[key]\n",
    "    if Xk == Yk:\n",
    "        return 2 * np.log(p(k, Xk))\n",
    "    return 2*np.log2(p(k, Xk) + p(k, Yk))\n",
    "\n",
    "def lin(src, dst):\n",
    "    w = linw(src, dst)\n",
    "    sim = 0\n",
    "    for (k, a) in enumerate(A):\n",
    "        sim += w*(linS(k, src, dst))\n",
    "    return sim\n"
   ]
  },
  {
   "cell_type": "code",
   "execution_count": 10,
   "id": "8ed2f15e",
   "metadata": {},
   "outputs": [
    {
     "name": "stdout",
     "output_type": "stream",
     "text": [
      "use time  7.232942819595337\n"
     ]
    }
   ],
   "source": [
    "simMatrix = np.zeros((N, N))\n",
    "start_time = time.time()\n",
    "\n",
    "for i in range(0, len(insight_records)):\n",
    "    src = insight_records[i]\n",
    "    for j in range(i+1, len(insight_records)):\n",
    "        dst = insight_records[j]\n",
    "        simMatrix[i][j] = float(lin(src, dst))\n",
    "        simMatrix[j][i] = simMatrix[i][j]\n",
    "\n",
    "end_time = time.time()\n",
    "print('use time ', end_time - start_time)"
   ]
  },
  {
   "cell_type": "code",
   "execution_count": 11,
   "id": "dc5fc8d1",
   "metadata": {},
   "outputs": [],
   "source": [
    "np.savez(simFile, sim = simMatrix)"
   ]
  },
  {
   "cell_type": "code",
   "execution_count": 13,
   "id": "2e58254a",
   "metadata": {},
   "outputs": [
    {
     "data": {
      "text/plain": [
       "'data/NBA/similarity'"
      ]
     },
     "execution_count": 13,
     "metadata": {},
     "output_type": "execute_result"
    }
   ],
   "source": [
    "simFile"
   ]
  },
  {
   "cell_type": "code",
   "execution_count": 17,
   "id": "bed43a6a",
   "metadata": {},
   "outputs": [],
   "source": [
    "up = np.load(\"{}.npz\".format(simFile))"
   ]
  },
  {
   "cell_type": "markdown",
   "id": "2cef0fac",
   "metadata": {},
   "source": [
    "## Calculate projection"
   ]
  },
  {
   "cell_type": "code",
   "execution_count": 19,
   "id": "fbfae7b3",
   "metadata": {},
   "outputs": [],
   "source": [
    "import numpy as np\n",
    "from sklearn.manifold import TSNE"
   ]
  },
  {
   "cell_type": "code",
   "execution_count": 23,
   "id": "1da616a9",
   "metadata": {},
   "outputs": [],
   "source": [
    "def generate_projection(sim_matrix, perplexity = 12):\n",
    "    X_embedded = TSNE(n_components=2, \n",
    "                   init='random', perplexity=perplexity).fit_transform(sim_matrix)\n",
    "    return X_embedded\n",
    "\n",
    "def visualize_matrix(projection):\n",
    "    df = pd.DataFrame(columns=['x', 'y'], data=projection)\n",
    "    sns.scatterplot(data=df, x=\"x\", y=\"y\")\n",
    "\n",
    "def calc_projection(sim, index_list, perplexity = 50):\n",
    "    matrix = sim if type(sim) != str else np.load(simFile.format(output_folder, 'npz'))\n",
    "    sub_matrix = matrix[index_list][:, index_list]\n",
    "    X_embedded = generate_projection(sub_matrix, perplexity)\n",
    "    return X_embedded"
   ]
  },
  {
   "cell_type": "code",
   "execution_count": 31,
   "id": "d7a06f39",
   "metadata": {},
   "outputs": [
    {
     "data": {
      "image/png": "[encoded data removed]",
      "text/plain": [
       "<Figure size 432x288 with 1 Axes>"
      ]
     },
     "metadata": {
      "needs_background": "light"
     },
     "output_type": "display_data"
    }
   ],
   "source": [
    "projection = calc_projection(simMatrix, [i for i in range(0, 650)], perplexity=5)\n",
    "visualize_matrix(projection)"
   ]
  },
  {
   "cell_type": "code",
   "execution_count": 32,
   "id": "5c7b411b",
   "metadata": {},
   "outputs": [],
   "source": [
    "np.savez(\"{}/{}.npz\".format(output_folder, 'projection'), projection = projection)"
   ]
  },
  {
   "cell_type": "code",
   "execution_count": null,
   "id": "fe053bc0",
   "metadata": {},
   "outputs": [],
   "source": [
    "type('123') == str"
   ]
  },
  {
   "cell_type": "code",
   "execution_count": null,
   "id": "94ffb543",
   "metadata": {},
   "outputs": [],
   "source": [
    "emb = calc_projection(simMatrix, [i for i in range(0, 649)], perplexity=12)\n",
    "visualize_matrix(emb)"
   ]
  },
  {
   "cell_type": "code",
   "execution_count": null,
   "id": "16553823",
   "metadata": {},
   "outputs": [],
   "source": [
    "test_index = [0, 1, 2, 3, 4, 5, 6, 7, 8, 9, 10]\n",
    "test_index = [i for i in range(0, 374)]\n",
    "sub_similarity = simMatrix[test_index][:, test_index]"
   ]
  },
  {
   "cell_type": "code",
   "execution_count": null,
   "id": "77ca4442",
   "metadata": {},
   "outputs": [],
   "source": [
    "sub_similarity"
   ]
  },
  {
   "cell_type": "code",
   "execution_count": null,
   "id": "e24b6a67",
   "metadata": {},
   "outputs": [],
   "source": [
    "X_embedded = generate_projection(sub_similarity, 99)\n",
    "visualize_matrix(X_embedded)"
   ]
  },
  {
   "cell_type": "code",
   "execution_count": null,
   "id": "5ee990f6",
   "metadata": {},
   "outputs": [],
   "source": [
    "simMatrix[[1,2,3]][:, [1,2,3]].shape"
   ]
  },
  {
   "cell_type": "code",
   "execution_count": null,
   "id": "d95ddc06",
   "metadata": {},
   "outputs": [],
   "source": [
    "simMatrix[[1,5,7]][:, [1,5,7]]"
   ]
  },
  {
   "cell_type": "code",
   "execution_count": null,
   "id": "a639980d",
   "metadata": {},
   "outputs": [],
   "source": [
    "simMatrix[[1]]"
   ]
  },
  {
   "cell_type": "markdown",
   "id": "6b236ace",
   "metadata": {},
   "source": [
    "## Save similarity matrix"
   ]
  },
  {
   "cell_type": "code",
   "execution_count": null,
   "id": "183eb8ce",
   "metadata": {},
   "outputs": [],
   "source": [
    "\n",
    "start_time = time.time()\n",
    "X_embedded = TSNE(n_components=2, \n",
    "                   init='random', perplexity=12).fit_transform(simMatrix)\n",
    "print(\"Use time: \", time.time() - start_time)\n",
    "\n",
    "projection = pd.DataFrame(columns=['x', 'y'], data = X_embedded)\n",
    "sns.scatterplot(data=projection, x=\"x\", y=\"y\")"
   ]
  },
  {
   "cell_type": "code",
   "execution_count": null,
   "id": "a552d40b",
   "metadata": {},
   "outputs": [],
   "source": []
  },
  {
   "cell_type": "code",
   "execution_count": null,
   "id": "189a072f",
   "metadata": {},
   "outputs": [],
   "source": []
  },
  {
   "cell_type": "code",
   "execution_count": null,
   "id": "a9c02434",
   "metadata": {},
   "outputs": [],
   "source": []
  },
  {
   "cell_type": "code",
   "execution_count": null,
   "id": "ceaa364a",
   "metadata": {},
   "outputs": [],
   "source": [
    "result_df[['x', 'y']] = projection.values\n",
    "result_df.to_csv('projection.csv', index = False)"
   ]
  },
  {
   "cell_type": "code",
   "execution_count": null,
   "id": "9638bf57",
   "metadata": {},
   "outputs": [],
   "source": [
    "def generate_projection():\n",
    "    pass"
   ]
  },
  {
   "cell_type": "markdown",
   "id": "7b97824d",
   "metadata": {},
   "source": [
    "## process subspace"
   ]
  },
  {
   "cell_type": "code",
   "execution_count": null,
   "id": "9df94bff",
   "metadata": {},
   "outputs": [],
   "source": [
    "sub_df = result_df[result_df['team_name'] == 'Los Angeles Lakers']\n",
    "\n",
    "sub_N = sub_df.shape[0]\n",
    "sub_simMatrix = np.zeros((sub_N, sub_N))\n",
    "start_time = time.time()\n",
    "sub_insight_records = sub_df.to_dict('records')\n",
    "for i in range(0, len(sub_insight_records)):\n",
    "    src = sub_insight_records[i]\n",
    "    for j in range(i+1, len(sub_insight_records)):\n",
    "        dst = sub_insight_records[j]\n",
    "        sub_simMatrix[i][j] = float(lin(src, dst))\n",
    "        sub_simMatrix[j][i] = sub_simMatrix[i][j]\n",
    "\n",
    "end_time = time.time()\n",
    "print('use time ', end_time - start_time)"
   ]
  },
  {
   "cell_type": "code",
   "execution_count": null,
   "id": "a67bc71b",
   "metadata": {},
   "outputs": [],
   "source": [
    "tart_time = time.time()\n",
    "sub_embedded = TSNE(n_components=2, \n",
    "                   init='random', perplexity=5).fit_transform(sub_simMatrix)\n",
    "print(\"Use time: \", time.time() - start_time)\n",
    "\n",
    "sub_projection = pd.DataFrame(columns=['x', 'y'], data = sub_embedded)\n",
    "sns.scatterplot(data=sub_projection, x=\"x\", y=\"y\")"
   ]
  },
  {
   "cell_type": "code",
   "execution_count": null,
   "id": "5969c1e4",
   "metadata": {},
   "outputs": [],
   "source": [
    "sub_df[['x', 'y']] = sub_projection.values\n",
    "sub_df.to_csv('subspace.csv', index = False)"
   ]
  },
  {
   "cell_type": "markdown",
   "id": "25211ca0",
   "metadata": {},
   "source": [
    "## breakdown subspace"
   ]
  },
  {
   "cell_type": "code",
   "execution_count": null,
   "id": "7859a60c",
   "metadata": {},
   "outputs": [],
   "source": [
    "result_df['breakdown'].unique()"
   ]
  },
  {
   "cell_type": "code",
   "execution_count": null,
   "id": "3a32e501",
   "metadata": {},
   "outputs": [],
   "source": [
    "result_df[['breakdown','age']].groupby('breakdown').count()"
   ]
  },
  {
   "cell_type": "code",
   "execution_count": null,
   "id": "bc1c5560",
   "metadata": {},
   "outputs": [],
   "source": [
    "result_df[['lg_name','age']].groupby('lg_name').count()"
   ]
  },
  {
   "cell_type": "code",
   "execution_count": null,
   "id": "5a9f480d",
   "metadata": {},
   "outputs": [],
   "source": [
    "breakdown_df = result_df[result_df['breakdown'] == 'lg_name']\n",
    "\n",
    "breakdown_N = breakdown_df.shape[0]\n",
    "breakdown_simMatrix = np.zeros((breakdown_N, breakdown_N))\n",
    "start_time = time.time()\n",
    "breakdown_insight_records = breakdown_df.to_dict('records')\n",
    "for i in range(0, len(breakdown_insight_records)):\n",
    "    src = breakdown_insight_records[i]\n",
    "    for j in range(i+1, len(breakdown_insight_records)):\n",
    "        dst = breakdown_insight_records[j]\n",
    "        breakdown_simMatrix[i][j] = float(lin(src, dst))\n",
    "        breakdown_simMatrix[j][i] = breakdown_simMatrix[i][j]\n",
    "        \n",
    "\n",
    "end_time = time.time()\n",
    "print('use time ', end_time - start_time)"
   ]
  },
  {
   "cell_type": "code",
   "execution_count": null,
   "id": "2e3b9f41",
   "metadata": {},
   "outputs": [],
   "source": [
    "tart_time = time.time()\n",
    "breakdown_embedded = TSNE(n_components=2, \n",
    "                   init='random', perplexity=50).fit_transform(breakdown_simMatrix)\n",
    "print(\"Use time: \", time.time() - start_time)\n",
    "\n",
    "breakdown_projection = pd.DataFrame(columns=['x', 'y'], data = breakdown_embedded)\n",
    "sns.scatterplot(data=breakdown_projection, x=\"x\", y=\"y\")"
   ]
  },
  {
   "cell_type": "code",
   "execution_count": null,
   "id": "58c2b3b2",
   "metadata": {},
   "outputs": [],
   "source": [
    "breakdown_df[['x', 'y']] = breakdown_projection.values\n",
    "breakdown_df.to_csv('breakdown.csv', index = False)"
   ]
  },
  {
   "cell_type": "markdown",
   "id": "6c0dc819",
   "metadata": {},
   "source": [
    "## breakdown  and  subspace"
   ]
  },
  {
   "cell_type": "code",
   "execution_count": null,
   "id": "dac5d60e",
   "metadata": {},
   "outputs": [],
   "source": [
    "bs_df = result_df[(result_df['breakdown'] == 'lg_name')&(result_df['team_name'] == 'Los Angeles Lakers')]\n",
    "\n",
    "bs_N = bs_df.shape[0]\n",
    "bs_simMatrix = np.zeros((bs_N, bs_N))\n",
    "start_time = time.time()\n",
    "bs_insight_records = bs_df.to_dict('records')\n",
    "for i in range(0, len(bs_insight_records)):\n",
    "    src = bs_insight_records[i]\n",
    "    for j in range(i+1, len(bs_insight_records)):\n",
    "        dst = bs_insight_records[j]\n",
    "        bs_simMatrix[i][j] = float(lin(src, dst))\n",
    "        bs_simMatrix[j][i] = bs_simMatrix[i][j]\n",
    "        \n",
    "\n",
    "# end_time = time.time()\n",
    "# print('use time ', end_time - start_time)"
   ]
  },
  {
   "cell_type": "code",
   "execution_count": null,
   "id": "b5d612f6",
   "metadata": {},
   "outputs": [],
   "source": [
    "tart_time = time.time()\n",
    "bs_embedded = TSNE(n_components=2, \n",
    "                   init='random', perplexity=50).fit_transform(bs_simMatrix)\n",
    "print(\"Use time: \", time.time() - start_time)\n",
    "\n",
    "bs_projection = pd.DataFrame(columns=['x', 'y'], data = bs_embedded)\n",
    "sns.scatterplot(data=bs_projection, x=\"x\", y=\"y\")"
   ]
  },
  {
   "cell_type": "code",
   "execution_count": null,
   "id": "45b33837",
   "metadata": {},
   "outputs": [],
   "source": [
    "bs_df[['x', 'y']] = bs_projection.values\n",
    "bs_df.to_csv('bs.csv', index = False)"
   ]
  },
  {
   "cell_type": "code",
   "execution_count": null,
   "id": "f7d1b6ed",
   "metadata": {},
   "outputs": [],
   "source": []
  },
  {
   "cell_type": "code",
   "execution_count": null,
   "id": "a1c56397",
   "metadata": {},
   "outputs": [],
   "source": []
  },
  {
   "cell_type": "code",
   "execution_count": null,
   "id": "af235c62",
   "metadata": {},
   "outputs": [],
   "source": []
  },
  {
   "cell_type": "code",
   "execution_count": 35,
   "id": "84081b94",
   "metadata": {},
   "outputs": [
    {
     "data": {
      "text/plain": [
       "(650,)"
      ]
     },
     "execution_count": 35,
     "metadata": {},
     "output_type": "execute_result"
    }
   ],
   "source": [
    "result_df['year'].shape"
   ]
  },
  {
   "cell_type": "code",
   "execution_count": null,
   "id": "f7a75b3b",
   "metadata": {},
   "outputs": [],
   "source": []
  }
 ],
 "metadata": {
  "kernelspec": {
   "display_name": "Python 3 (ipykernel)",
   "language": "python",
   "name": "python3"
  },
  "language_info": {
   "codemirror_mode": {
    "name": "ipython",
    "version": 3
   },
   "file_extension": ".py",
   "mimetype": "text/x-python",
   "name": "python",
   "nbconvert_exporter": "python",
   "pygments_lexer": "ipython3",
   "version": "3.9.7"
  }
 },
 "nbformat": 4,
 "nbformat_minor": 5
}
