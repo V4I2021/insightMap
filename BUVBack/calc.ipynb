{
 "cells": [
  {
   "cell_type": "code",
   "execution_count": 1,
   "id": "b69742a5",
   "metadata": {},
   "outputs": [],
   "source": [
    "import pandas as pd\n",
    "import math\n",
    "import numpy as np\n",
    "import time\n",
    "\n",
    "import seaborn as sns"
   ]
  },
  {
   "cell_type": "code",
   "execution_count": 2,
   "id": "49272993",
   "metadata": {},
   "outputs": [],
   "source": [
    "name = 'NBA'\n",
    "output_folder  = '{}/{}'.format('data', name)\n",
    "simFile = '{}/similarity'.format(output_folder)"
   ]
  },
  {
   "cell_type": "code",
   "execution_count": 3,
   "id": "73d6ceac",
   "metadata": {},
   "outputs": [
    {
     "name": "stderr",
     "output_type": "stream",
     "text": [
      "C:\\ProgramData\\Anaconda3\\lib\\site-packages\\IPython\\core\\interactiveshell.py:3444: DtypeWarning: Columns (1,3) have mixed types.Specify dtype option on import or set low_memory=False.\n",
      "  exec(code_obj, self.user_global_ns, self.user_ns)\n"
     ]
    }
   ],
   "source": [
    "insight_df = pd.read_csv('./rawData/{}/insight.csv'.format(name))\n",
    "subspace_df = pd.read_csv('./rawData/{}/subspace.csv'.format(name))\n",
    "\n",
    "# insight_columns: insights columns\n",
    "# subspace_columns: subspaces\n",
    "\n",
    "insight_columns = insight_df.columns[:10]\n",
    "subspace_columns = subspace_df.columns\n",
    "\n",
    "result_df = insight_df[insight_columns].merge(subspace_df, left_on='sid', right_on='sid')\n",
    "result_df['index'] = result_df.index"
   ]
  },
  {
   "cell_type": "code",
   "execution_count": 4,
   "id": "1b98ff70",
   "metadata": {},
   "outputs": [],
   "source": [
    "# A: features used  to calculate similarity\n",
    "# M: the size of data\n",
    "\n",
    "A = ['breakdown', 'measure'] + list(subspace_columns)[:-1]\n",
    "N = result_df.shape[0]"
   ]
  },
  {
   "cell_type": "code",
   "execution_count": 5,
   "id": "be196d8b",
   "metadata": {},
   "outputs": [],
   "source": [
    "# function f(k, x); funciton p(k, x) p2(k, x)\n",
    "\n",
    "kx_map = {}\n",
    "for (k, a) in enumerate(A):\n",
    "    if k not in kx_map:\n",
    "        kx_map[k] = {}\n",
    "    x_count = result_df[[a, 'index']].groupby(a).count().reset_index()\n",
    "    for obj in x_count.to_dict('records'):\n",
    "        kx_map[k][obj[a]] = obj['index']\n",
    "        \n",
    "        \n",
    "def f(k, x):\n",
    "    if k not in kx_map:\n",
    "        return False\n",
    "    if x not in kx_map[k]:\n",
    "        return 0\n",
    "    return kx_map[k][x]\n",
    "\n",
    "insight_records= result_df.to_dict('records')\n",
    "\n",
    "def p(k, x):\n",
    "    fkx = f(k, x)\n",
    "    if fkx == False:\n",
    "        return False\n",
    "    return fkx / N\n",
    "\n",
    "def p2(k, x):\n",
    "    fkx = f(k,x)\n",
    "    if fkx == False:\n",
    "        return False\n",
    "    return fkx * (fkx-1) / (N * (N-1)) \n",
    "\n",
    "def linw(src, dst):\n",
    "    s = 0\n",
    "    for (k, a) in enumerate(A):\n",
    "        Xk, Yk =  src[a], dst[a]\n",
    "        s += (np.log(p(k, Xk)) + np.log(p(k, Yk))) \n",
    "    return 1/s \n",
    "\n",
    "def linS(k, src, dst):\n",
    "    key = A[k]\n",
    "    Xk, Yk = src[key], dst[key]\n",
    "    if Xk == Yk:\n",
    "        return 2 * np.log(p(k, Xk))\n",
    "    return 2*np.log2(p(k, Xk) + p(k, Yk))\n",
    "\n",
    "def lin(src, dst):\n",
    "    w = linw(src, dst)\n",
    "    sim = 0\n",
    "    for (k, a) in enumerate(A):\n",
    "        sim += w*(linS(k, src, dst))\n",
    "    return sim\n"
   ]
  },
  {
   "cell_type": "code",
   "execution_count": 6,
   "id": "8ed2f15e",
   "metadata": {},
   "outputs": [
    {
     "name": "stdout",
     "output_type": "stream",
     "text": [
      "use time  8.28886079788208\n"
     ]
    }
   ],
   "source": [
    "simMatrix = np.zeros((N, N))\n",
    "start_time = time.time()\n",
    "\n",
    "for i in range(0, len(insight_records)):\n",
    "    src = insight_records[i]\n",
    "    for j in range(i+1, len(insight_records)):\n",
    "        dst = insight_records[j]\n",
    "        simMatrix[i][j] = float(lin(src, dst))\n",
    "        simMatrix[j][i] = simMatrix[i][j]\n",
    "\n",
    "end_time = time.time()\n",
    "print('use time ', end_time - start_time)"
   ]
  },
  {
   "cell_type": "code",
   "execution_count": 7,
   "id": "dc5fc8d1",
   "metadata": {},
   "outputs": [],
   "source": [
    "np.savez(simFile, sim = simMatrix)"
   ]
  },
  {
   "cell_type": "code",
   "execution_count": 8,
   "id": "2e58254a",
   "metadata": {},
   "outputs": [
    {
     "data": {
      "text/plain": [
       "'data/NBA/similarity'"
      ]
     },
     "execution_count": 8,
     "metadata": {},
     "output_type": "execute_result"
    }
   ],
   "source": [
    "simFile"
   ]
  },
  {
   "cell_type": "code",
   "execution_count": 9,
   "id": "bed43a6a",
   "metadata": {},
   "outputs": [],
   "source": [
    "up = np.load(\"{}.npz\".format(simFile))"
   ]
  },
  {
   "cell_type": "markdown",
   "id": "2cef0fac",
   "metadata": {},
   "source": [
    "## Calculate projection"
   ]
  },
  {
   "cell_type": "code",
   "execution_count": 34,
   "id": "fbfae7b3",
   "metadata": {},
   "outputs": [],
   "source": [
    "import numpy as np\n",
    "from sklearn.manifold import TSNE\n",
    "from sklearn.manifold import MDS\n",
    "\n",
    "from sklearn.manifold import spectral_embedding"
   ]
  },
  {
   "cell_type": "code",
   "execution_count": 39,
   "id": "1da616a9",
   "metadata": {},
   "outputs": [],
   "source": [
    "def generate_projection(sim_matrix, perplexity = 12):\n",
    "    \n",
    "    st = time.time()\n",
    "    X_embedded = TSNE(n_components=2, \n",
    "                   init='random', perplexity=perplexity).fit_transform(sim_matrix)\n",
    "\n",
    "#     X_embedded = MDS(n_components=2).fit_transform(sim_matrix)\n",
    "    \n",
    "    X_embedded = spectral_embedding(sim_matrix, n_components=2)\n",
    "    print(time.time() - st)\n",
    "    return X_embedded\n",
    "\n",
    "def visualize_matrix(projection):\n",
    "    df = pd.DataFrame(columns=['x', 'y'], data=projection)\n",
    "    sns.scatterplot(data=df, x=\"x\", y=\"y\")\n",
    "\n",
    "def calc_projection(sim, index_list, perplexity = 50):\n",
    "    matrix = sim if type(sim) != str else np.load(simFile.format(output_folder, 'npz'))\n",
    "    sub_matrix = matrix[index_list][:, index_list]\n",
    "    X_embedded = generate_projection(sub_matrix, perplexity)\n",
    "    return X_embedded"
   ]
  },
  {
   "cell_type": "code",
   "execution_count": 40,
   "id": "d7a06f39",
   "metadata": {},
   "outputs": [
    {
     "name": "stdout",
     "output_type": "stream",
     "text": [
      "1.5655043125152588\n"
     ]
    },
    {
     "data": {
      "image/png": "[encoded data removed]",
      "text/plain": [
       "<Figure size 432x288 with 1 Axes>"
      ]
     },
     "metadata": {
      "needs_background": "light"
     },
     "output_type": "display_data"
    }
   ],
   "source": [
    "projection = calc_projection(simMatrix, [i for i in range(0, 650)], perplexity=5)\n",
    "visualize_matrix(projection)"
   ]
  },
  {
   "cell_type": "code",
   "execution_count": 41,
   "id": "5c7b411b",
   "metadata": {},
   "outputs": [],
   "source": [
    "np.savez(\"{}/{}.npz\".format(output_folder, 'projection'), projection = projection)"
   ]
  },
  {
   "cell_type": "code",
   "execution_count": 14,
   "id": "fe053bc0",
   "metadata": {},
   "outputs": [
    {
     "data": {
      "text/plain": [
       "True"
      ]
     },
     "execution_count": 14,
     "metadata": {},
     "output_type": "execute_result"
    }
   ],
   "source": [
    "type('123') == str"
   ]
  },
  {
   "cell_type": "code",
   "execution_count": 15,
   "id": "94ffb543",
   "metadata": {},
   "outputs": [
    {
     "data": {
      "image/png": "[encoded data removed]",
      "text/plain": [
       "<Figure size 432x288 with 1 Axes>"
      ]
     },
     "metadata": {
      "needs_background": "light"
     },
     "output_type": "display_data"
    }
   ],
   "source": [
    "emb = calc_projection(simMatrix, [i for i in range(0, 649)], perplexity=12)\n",
    "visualize_matrix(emb)"
   ]
  },
  {
   "cell_type": "code",
   "execution_count": 16,
   "id": "16553823",
   "metadata": {},
   "outputs": [],
   "source": [
    "test_index = [0, 1, 2, 3, 4, 5, 6, 7, 8, 9, 10]\n",
    "test_index = [i for i in range(0, 374)]\n",
    "sub_similarity = simMatrix[test_index][:, test_index]"
   ]
  },
  {
   "cell_type": "code",
   "execution_count": 17,
   "id": "77ca4442",
   "metadata": {},
   "outputs": [
    {
     "data": {
      "text/plain": [
       "array([[0.        , 0.91514446, 0.83908186, ..., 0.28794307, 0.28794307,\n",
       "        0.26335496],\n",
       "       [0.91514446, 0.        , 0.91509909, ..., 0.36866071, 0.36866071,\n",
       "        0.33573833],\n",
       "       [0.83908186, 0.91509909, 0.        , ..., 0.33573833, 0.33573833,\n",
       "        0.48026366],\n",
       "       ...,\n",
       "       [0.28794307, 0.36866071, 0.33573833, ..., 0.        , 1.        ,\n",
       "        0.89437938],\n",
       "       [0.28794307, 0.36866071, 0.33573833, ..., 1.        , 0.        ,\n",
       "        0.89437938],\n",
       "       [0.26335496, 0.33573833, 0.48026366, ..., 0.89437938, 0.89437938,\n",
       "        0.        ]])"
      ]
     },
     "execution_count": 17,
     "metadata": {},
     "output_type": "execute_result"
    }
   ],
   "source": [
    "sub_similarity"
   ]
  },
  {
   "cell_type": "code",
   "execution_count": 18,
   "id": "e24b6a67",
   "metadata": {},
   "outputs": [
    {
     "data": {
      "image/png": "[encoded data removed]",
      "text/plain": [
       "<Figure size 432x288 with 1 Axes>"
      ]
     },
     "metadata": {
      "needs_background": "light"
     },
     "output_type": "display_data"
    }
   ],
   "source": [
    "X_embedded = generate_projection(sub_similarity, 99)\n",
    "visualize_matrix(X_embedded)"
   ]
  },
  {
   "cell_type": "code",
   "execution_count": 19,
   "id": "5ee990f6",
   "metadata": {},
   "outputs": [
    {
     "data": {
      "text/plain": [
       "(3, 3)"
      ]
     },
     "execution_count": 19,
     "metadata": {},
     "output_type": "execute_result"
    }
   ],
   "source": [
    "simMatrix[[1,2,3]][:, [1,2,3]].shape"
   ]
  },
  {
   "cell_type": "code",
   "execution_count": 20,
   "id": "d95ddc06",
   "metadata": {},
   "outputs": [
    {
     "data": {
      "text/plain": [
       "array([[0.        , 1.15587625, 1.07544357],\n",
       "       [1.15587625, 0.        , 0.91874166],\n",
       "       [1.07544357, 0.91874166, 0.        ]])"
      ]
     },
     "execution_count": 20,
     "metadata": {},
     "output_type": "execute_result"
    }
   ],
   "source": [
    "simMatrix[[1,5,7]][:, [1,5,7]]"
   ]
  },
  {
   "cell_type": "code",
   "execution_count": 21,
   "id": "a639980d",
   "metadata": {},
   "outputs": [
    {
     "data": {
      "text/plain": [
       "array([[0.91514446, 0.        , 0.91509909, 0.41095058, 0.33950561,\n",
       "        1.15587625, 1.05442199, 1.07544357, 0.42743156, 0.38950722,\n",
       "        0.42743156, 0.39094662, 0.42743156, 0.42743156, 0.32395649,\n",
       "        0.35180563, 0.35180563, 0.36448988, 0.36448988, 0.36448988,\n",
       "        0.28794307, 0.26495617, 0.28794307, 0.28794307, 0.36448988,\n",
       "        0.36448988, 0.36448988, 0.28794307, 0.26495617, 0.28794307,\n",
       "        0.28794307, 0.33599313, 0.26683885, 1.06509135, 0.98732447,\n",
       "        1.06509135, 0.98732447, 0.4164335 , 0.38129321, 0.34391101,\n",
       "        0.45046072, 0.45046072, 0.45046072, 0.40885906, 0.37049302,\n",
       "        0.3382587 , 0.37049302, 0.37049302, 0.3382587 , 0.33717348,\n",
       "        0.37423583, 0.36349813, 0.36349813, 0.36349813, 0.28725855,\n",
       "        0.26442063, 0.28725855, 0.28725855, 0.45455073, 0.41270748,\n",
       "        0.45455073, 0.45455073, 0.41205188, 0.37350031, 0.34057694,\n",
       "        0.37350031, 0.37350031, 0.34057694, 0.33949705, 0.41176132,\n",
       "        0.37730856, 0.37681898, 0.37730856, 0.4515746 , 0.4104263 ,\n",
       "        0.4515746 , 0.4515746 , 0.40973298, 0.37131963, 0.33890016,\n",
       "        0.33982683, 0.37131963, 0.37131963, 0.33890016, 0.33781653,\n",
       "        0.37494648, 0.44801413, 0.40766806, 0.44801413, 0.44801413,\n",
       "        0.40692965, 0.36866071, 0.33776753, 0.33682726, 0.36866071,\n",
       "        0.36866071, 0.33573833, 0.9376687 , 0.85068647, 0.9376687 ,\n",
       "        0.9376687 , 0.85314478, 0.77191376, 0.77499084, 0.85314478,\n",
       "        0.85314478, 0.77191376, 0.78421174, 1.05588339, 0.97733534,\n",
       "        1.03556471, 0.93735526, 1.03556471, 1.03556471, 0.93586171,\n",
       "        0.94783511, 0.85907235, 0.85499919, 0.94783511, 0.94783511,\n",
       "        0.85499919, 0.85787072, 0.86302609, 1.15587625, 1.05442199,\n",
       "        1.07544357, 1.14754042, 1.04575916, 1.06626893, 0.97288286,\n",
       "        0.34943432, 0.34943432, 0.2770469 , 0.42813409, 0.42813409,\n",
       "        0.39090861, 0.35323707, 0.32332672, 0.36448988, 0.36448988,\n",
       "        0.36448988, 0.28794307, 0.26495617, 0.28794307, 0.28794307,\n",
       "        0.45262409, 0.45262409, 0.45262409, 0.41055352, 0.37209353,\n",
       "        0.33949798, 0.37209353, 0.37209353, 0.33841575, 0.33949798,\n",
       "        0.37611096, 0.37561139, 0.37611096, 0.45650006, 0.41249519,\n",
       "        0.41341075, 0.45650006, 0.45650006, 0.4128762 , 0.37348302,\n",
       "        0.33985818, 0.33810398, 0.37348302, 0.37348302, 0.33874936,\n",
       "        0.41260439, 0.37737016, 0.37687136, 0.37687136, 0.41260439,\n",
       "        0.37561954, 0.37737016, 0.36782916, 0.36782916, 0.36782916,\n",
       "        0.29018646, 0.2666847 , 0.29018646, 0.29018646, 0.2666847 ,\n",
       "        0.30599029, 0.45424349, 0.41079956, 0.45424349, 0.45424349,\n",
       "        0.4111838 , 0.37195733, 0.336996  , 0.37195733, 0.37195733,\n",
       "        0.33764045, 0.3760695 , 0.37556042, 0.41086265, 0.3760695 ,\n",
       "        0.41086265, 0.37430344, 0.37556042, 0.36800291, 0.33368579,\n",
       "        0.36800291, 0.36800291, 0.28855321, 0.26473415, 0.26218185,\n",
       "        0.28855321, 0.28855321, 0.33173087, 0.30614984, 0.30491908,\n",
       "        0.33173087, 0.30491908, 0.30614984, 0.30293417, 0.3662731 ,\n",
       "        0.3662731 , 0.3662731 , 0.28915427, 0.26589521, 0.28915427,\n",
       "        0.28915427, 0.26589521, 0.30502562, 0.36760352, 0.33339246,\n",
       "        0.36760352, 0.36760352, 0.28833022, 0.26203146, 0.28833022,\n",
       "        0.28833022, 0.33143385, 0.30470045, 0.30593125, 0.30470045,\n",
       "        0.30271688, 0.33143385, 0.30593125, 0.44657287, 0.3973434 ,\n",
       "        0.39604766, 0.44657287, 0.44657287, 0.3976963 , 0.44657287,\n",
       "        0.3973434 , 0.39604766, 0.3973434 , 0.3973434 , 0.3973434 ,\n",
       "        0.3973434 , 0.39604766, 0.3976963 , 0.3973434 , 0.39604766,\n",
       "        0.39604766, 0.39604766, 0.39604766, 0.39604766, 0.39604766,\n",
       "        0.39604766, 0.39604766, 0.3973434 , 0.3973434 , 0.3973434 ,\n",
       "        0.3973434 , 0.39604766, 0.39604766, 0.3973434 , 0.39604766,\n",
       "        0.34759785, 0.30909743, 0.31153655, 0.34759785, 0.34759785,\n",
       "        0.31300892, 0.31153655, 0.34759785, 0.30909743, 0.31153655,\n",
       "        0.3956546 , 0.35625358, 0.35708341, 0.35625358, 0.3956546 ,\n",
       "        0.35708341, 0.35453987, 0.44666604, 0.40661673, 0.44666604,\n",
       "        0.44666604, 0.40586128, 0.36764238, 0.33602673, 0.36764238,\n",
       "        0.36764238, 0.33493563, 0.45424349, 0.41079956, 0.45424349,\n",
       "        0.45424349, 0.4111838 , 0.37195733, 0.336996  , 0.37195733,\n",
       "        0.37195733, 0.33764045, 0.3760695 , 0.41086265, 0.37556042,\n",
       "        0.37556042, 0.3760695 , 0.37430344, 0.41086265, 0.36800291,\n",
       "        0.33546344, 0.33368579, 0.36800291, 0.36800291, 0.28855321,\n",
       "        0.26218185, 0.28855321, 0.28855321, 0.33173087, 0.30491908,\n",
       "        0.30614984, 0.33173087, 0.30491908, 0.30293417, 0.30614984,\n",
       "        0.45484671, 0.41125572, 0.45484671, 0.45484671, 0.41163907,\n",
       "        0.37237061, 0.33729935, 0.37237061, 0.37237061, 0.33794399,\n",
       "        0.41133114, 0.37642187, 0.37591559, 0.37642187, 0.37591559,\n",
       "        0.37466009, 0.41133114, 0.44801413, 0.40766806, 0.44801413,\n",
       "        0.44801413, 0.40692965, 0.36866071, 0.33682726, 0.33776753,\n",
       "        0.36866071, 0.36866071, 0.33573833, 0.44801413, 0.40766806,\n",
       "        0.44801413, 0.44801413, 0.40692965, 0.36866071, 0.33776753,\n",
       "        0.33682726, 0.36866071, 0.36866071, 0.33573833, 0.36707695,\n",
       "        0.36707695, 0.36707695, 0.28969071, 0.26630694, 0.28969071,\n",
       "        0.28969071, 0.26630694, 0.45484671, 0.41125572, 0.45484671,\n",
       "        0.45484671, 0.41163907, 0.37237061, 0.33729935, 0.37237061,\n",
       "        0.37237061, 0.33794399, 0.37642187, 0.41133114, 0.37591559,\n",
       "        0.37591559, 0.37466009, 0.41133114, 0.37642187, 0.44666604,\n",
       "        0.40661673, 0.44666604, 0.44666604, 0.40586128, 0.36764238,\n",
       "        0.33697233, 0.33602673, 0.36764238, 0.36764238, 0.33493563,\n",
       "        0.43865076, 0.39998045, 0.43865076, 0.33362046, 0.33362046,\n",
       "        0.33194694, 0.36347197, 0.34030799, 0.27014348, 0.44801413,\n",
       "        0.44801413, 0.44801413, 0.40692965, 0.36866071, 0.33682726,\n",
       "        0.36866071, 0.36866071, 0.33573833, 0.37265883, 0.36349813,\n",
       "        0.36349813, 0.36349813, 0.28725855, 0.28725855, 0.28725855,\n",
       "        0.36760352, 0.33339246, 0.36760352, 0.36760352, 0.28833022,\n",
       "        0.26203146, 0.28833022, 0.28833022, 0.33143385, 0.30470045,\n",
       "        0.30593125, 0.30470045, 0.30271688, 0.30593125, 0.33143385,\n",
       "        0.36907632, 0.33446238, 0.33624114, 0.36907632, 0.36907632,\n",
       "        0.28912438, 0.26255182, 0.26511402, 0.28912438, 0.28912438,\n",
       "        0.3325166 , 0.305487  , 0.30671819, 0.3325166 , 0.305487  ,\n",
       "        0.30671819, 0.30349773, 0.55668103, 0.49171808, 0.49079461,\n",
       "        0.55668103, 0.55668103, 0.49171834, 0.49171808, 0.49182795,\n",
       "        0.55668103, 0.49171834, 0.49079461, 0.49171834, 0.49171834,\n",
       "        0.49171834, 0.49171834, 0.49171834, 0.49171808, 0.49171808,\n",
       "        0.49171834, 0.49171808, 0.49171834, 0.49171834, 0.49171834,\n",
       "        0.49079461, 0.49171834, 0.49171808, 0.49171834, 0.49171808,\n",
       "        0.49171834, 0.49171834, 0.49171808, 0.49171808, 0.49079461,\n",
       "        0.49171808, 0.49171808, 0.49079461, 0.49171808, 0.49171808,\n",
       "        0.49171834, 0.45301138, 0.40267272, 0.40238353, 0.4011427 ,\n",
       "        0.45301138, 0.45301138, 0.40238353, 0.40238353, 0.40164434,\n",
       "        0.40267272, 0.4011427 , 0.45301138, 0.44192299, 0.442152  ,\n",
       "        0.49443263, 0.44150963, 0.442152  , 0.44192299, 0.49443263,\n",
       "        0.36919541, 0.36919541, 0.36919541, 0.29106913, 0.26734946,\n",
       "        0.29106913, 0.29106913, 0.26734946, 0.30681969, 0.36448988,\n",
       "        0.36448988, 0.36448988, 0.28794307, 0.26495617, 0.28794307,\n",
       "        0.28794307, 0.30389867, 0.90390478, 0.89952322, 0.99306976,\n",
       "        0.99306976, 0.91088563, 0.91088563, 0.94327502, 1.03816086,\n",
       "        0.90390478, 0.89952322, 0.99306976, 0.99306976, 0.91088563,\n",
       "        0.91088563, 0.98876888, 0.9833781 , 1.08861278, 1.08861278,\n",
       "        0.9871486 , 1.00342065, 1.00342065, 0.91115382, 0.91276793,\n",
       "        1.00682514, 1.00682514, 0.92530477, 0.92530477, 0.92728397,\n",
       "        1.02180639, 0.94106917, 0.94106917, 1.02520593, 1.13116712,\n",
       "        1.13116712, 1.0291535 , 1.04856981, 0.95521791, 0.98876888,\n",
       "        0.9833781 , 1.08861278, 1.08861278, 0.9871486 , 1.00342065,\n",
       "        1.00342065, 0.91115382, 0.91276793, 1.00682514, 1.00682514,\n",
       "        0.92530477, 0.92530477, 0.92728397, 1.02180639, 0.94106917,\n",
       "        0.94106917, 0.91276793, 1.00682514, 1.00682514, 0.92530477,\n",
       "        0.92530477, 0.99610373, 1.10168006, 1.10168006, 0.99993316,\n",
       "        1.01720567, 1.01720567, 0.92450612, 0.99610373, 1.10168006,\n",
       "        1.10168006, 0.99993316, 1.01720567, 1.01720567, 0.92450612,\n",
       "        0.99610373, 1.10168006, 1.10168006, 0.99993316, 1.01720567,\n",
       "        1.01720567, 0.92450612, 1.00999543, 1.11583732, 1.01388461,\n",
       "        1.0322086 , 1.0322086 , 0.93912831, 1.00999543, 1.11583732,\n",
       "        1.01388461, 1.0322086 , 1.0322086 , 0.93912831, 1.07051125,\n",
       "        1.07051125, 1.07051125, 1.07051125, 1.07051125, 1.07592351,\n",
       "        1.00711726, 1.07051125, 1.06302085, 1.08448251, 0.99164235,\n",
       "        1.07592351, 1.00711726, 0.99737976, 0.2847676 , 0.33815218]])"
      ]
     },
     "execution_count": 21,
     "metadata": {},
     "output_type": "execute_result"
    }
   ],
   "source": [
    "simMatrix[[1]]"
   ]
  },
  {
   "cell_type": "markdown",
   "id": "6b236ace",
   "metadata": {},
   "source": [
    "## Save similarity matrix"
   ]
  },
  {
   "cell_type": "code",
   "execution_count": 22,
   "id": "183eb8ce",
   "metadata": {},
   "outputs": [
    {
     "name": "stdout",
     "output_type": "stream",
     "text": [
      "Use time:  1.6191563606262207\n"
     ]
    },
    {
     "data": {
      "text/plain": [
       "<AxesSubplot:xlabel='x', ylabel='y'>"
      ]
     },
     "execution_count": 22,
     "metadata": {},
     "output_type": "execute_result"
    },
    {
     "data": {
      "image/png": "[encoded data removed]",
      "text/plain": [
       "<Figure size 432x288 with 1 Axes>"
      ]
     },
     "metadata": {
      "needs_background": "light"
     },
     "output_type": "display_data"
    }
   ],
   "source": [
    "\n",
    "start_time = time.time()\n",
    "X_embedded = TSNE(n_components=2, \n",
    "                   init='random', perplexity=12).fit_transform(simMatrix)\n",
    "print(\"Use time: \", time.time() - start_time)\n",
    "\n",
    "projection = pd.DataFrame(columns=['x', 'y'], data = X_embedded)\n",
    "sns.scatterplot(data=projection, x=\"x\", y=\"y\")"
   ]
  },
  {
   "cell_type": "code",
   "execution_count": null,
   "id": "a552d40b",
   "metadata": {},
   "outputs": [],
   "source": []
  },
  {
   "cell_type": "code",
   "execution_count": null,
   "id": "189a072f",
   "metadata": {},
   "outputs": [],
   "source": []
  },
  {
   "cell_type": "code",
   "execution_count": null,
   "id": "a9c02434",
   "metadata": {},
   "outputs": [],
   "source": []
  },
  {
   "cell_type": "code",
   "execution_count": null,
   "id": "ceaa364a",
   "metadata": {},
   "outputs": [],
   "source": [
    "result_df[['x', 'y']] = projection.values\n",
    "result_df.to_csv('projection.csv', index = False)"
   ]
  },
  {
   "cell_type": "code",
   "execution_count": null,
   "id": "9638bf57",
   "metadata": {},
   "outputs": [],
   "source": [
    "def generate_projection():\n",
    "    pass"
   ]
  },
  {
   "cell_type": "markdown",
   "id": "7b97824d",
   "metadata": {},
   "source": [
    "## process subspace"
   ]
  },
  {
   "cell_type": "code",
   "execution_count": null,
   "id": "9df94bff",
   "metadata": {},
   "outputs": [],
   "source": [
    "sub_df = result_df[result_df['team_name'] == 'Los Angeles Lakers']\n",
    "\n",
    "sub_N = sub_df.shape[0]\n",
    "sub_simMatrix = np.zeros((sub_N, sub_N))\n",
    "start_time = time.time()\n",
    "sub_insight_records = sub_df.to_dict('records')\n",
    "for i in range(0, len(sub_insight_records)):\n",
    "    src = sub_insight_records[i]\n",
    "    for j in range(i+1, len(sub_insight_records)):\n",
    "        dst = sub_insight_records[j]\n",
    "        sub_simMatrix[i][j] = float(lin(src, dst))\n",
    "        sub_simMatrix[j][i] = sub_simMatrix[i][j]\n",
    "\n",
    "end_time = time.time()\n",
    "print('use time ', end_time - start_time)"
   ]
  },
  {
   "cell_type": "code",
   "execution_count": null,
   "id": "a67bc71b",
   "metadata": {},
   "outputs": [],
   "source": [
    "tart_time = time.time()\n",
    "sub_embedded = TSNE(n_components=2, \n",
    "                   init='random', perplexity=5).fit_transform(sub_simMatrix)\n",
    "print(\"Use time: \", time.time() - start_time)\n",
    "\n",
    "sub_projection = pd.DataFrame(columns=['x', 'y'], data = sub_embedded)\n",
    "sns.scatterplot(data=sub_projection, x=\"x\", y=\"y\")"
   ]
  },
  {
   "cell_type": "code",
   "execution_count": null,
   "id": "5969c1e4",
   "metadata": {},
   "outputs": [],
   "source": [
    "sub_df[['x', 'y']] = sub_projection.values\n",
    "sub_df.to_csv('subspace.csv', index = False)"
   ]
  },
  {
   "cell_type": "markdown",
   "id": "25211ca0",
   "metadata": {},
   "source": [
    "## breakdown subspace"
   ]
  },
  {
   "cell_type": "code",
   "execution_count": null,
   "id": "7859a60c",
   "metadata": {},
   "outputs": [],
   "source": [
    "result_df['breakdown'].unique()"
   ]
  },
  {
   "cell_type": "code",
   "execution_count": null,
   "id": "3a32e501",
   "metadata": {},
   "outputs": [],
   "source": [
    "result_df[['breakdown','age']].groupby('breakdown').count()"
   ]
  },
  {
   "cell_type": "code",
   "execution_count": null,
   "id": "bc1c5560",
   "metadata": {},
   "outputs": [],
   "source": [
    "result_df[['lg_name','age']].groupby('lg_name').count()"
   ]
  },
  {
   "cell_type": "code",
   "execution_count": null,
   "id": "5a9f480d",
   "metadata": {},
   "outputs": [],
   "source": [
    "breakdown_df = result_df[result_df['breakdown'] == 'lg_name']\n",
    "\n",
    "breakdown_N = breakdown_df.shape[0]\n",
    "breakdown_simMatrix = np.zeros((breakdown_N, breakdown_N))\n",
    "start_time = time.time()\n",
    "breakdown_insight_records = breakdown_df.to_dict('records')\n",
    "for i in range(0, len(breakdown_insight_records)):\n",
    "    src = breakdown_insight_records[i]\n",
    "    for j in range(i+1, len(breakdown_insight_records)):\n",
    "        dst = breakdown_insight_records[j]\n",
    "        breakdown_simMatrix[i][j] = float(lin(src, dst))\n",
    "        breakdown_simMatrix[j][i] = breakdown_simMatrix[i][j]\n",
    "        \n",
    "\n",
    "end_time = time.time()\n",
    "print('use time ', end_time - start_time)"
   ]
  },
  {
   "cell_type": "code",
   "execution_count": null,
   "id": "2e3b9f41",
   "metadata": {},
   "outputs": [],
   "source": [
    "tart_time = time.time()\n",
    "breakdown_embedded = TSNE(n_components=2, \n",
    "                   init='random', perplexity=50).fit_transform(breakdown_simMatrix)\n",
    "print(\"Use time: \", time.time() - start_time)\n",
    "\n",
    "breakdown_projection = pd.DataFrame(columns=['x', 'y'], data = breakdown_embedded)\n",
    "sns.scatterplot(data=breakdown_projection, x=\"x\", y=\"y\")"
   ]
  },
  {
   "cell_type": "code",
   "execution_count": null,
   "id": "58c2b3b2",
   "metadata": {},
   "outputs": [],
   "source": [
    "breakdown_df[['x', 'y']] = breakdown_projection.values\n",
    "breakdown_df.to_csv('breakdown.csv', index = False)"
   ]
  },
  {
   "cell_type": "markdown",
   "id": "6c0dc819",
   "metadata": {},
   "source": [
    "## breakdown  and  subspace"
   ]
  },
  {
   "cell_type": "code",
   "execution_count": null,
   "id": "dac5d60e",
   "metadata": {},
   "outputs": [],
   "source": [
    "bs_df = result_df[(result_df['breakdown'] == 'lg_name')&(result_df['team_name'] == 'Los Angeles Lakers')]\n",
    "\n",
    "bs_N = bs_df.shape[0]\n",
    "bs_simMatrix = np.zeros((bs_N, bs_N))\n",
    "start_time = time.time()\n",
    "bs_insight_records = bs_df.to_dict('records')\n",
    "for i in range(0, len(bs_insight_records)):\n",
    "    src = bs_insight_records[i]\n",
    "    for j in range(i+1, len(bs_insight_records)):\n",
    "        dst = bs_insight_records[j]\n",
    "        bs_simMatrix[i][j] = float(lin(src, dst))\n",
    "        bs_simMatrix[j][i] = bs_simMatrix[i][j]\n",
    "        \n",
    "\n",
    "# end_time = time.time()\n",
    "# print('use time ', end_time - start_time)"
   ]
  },
  {
   "cell_type": "code",
   "execution_count": null,
   "id": "b5d612f6",
   "metadata": {},
   "outputs": [],
   "source": [
    "tart_time = time.time()\n",
    "bs_embedded = TSNE(n_components=2, \n",
    "                   init='random', perplexity=50).fit_transform(bs_simMatrix)\n",
    "print(\"Use time: \", time.time() - start_time)\n",
    "\n",
    "bs_projection = pd.DataFrame(columns=['x', 'y'], data = bs_embedded)\n",
    "sns.scatterplot(data=bs_projection, x=\"x\", y=\"y\")"
   ]
  },
  {
   "cell_type": "code",
   "execution_count": null,
   "id": "45b33837",
   "metadata": {},
   "outputs": [],
   "source": [
    "bs_df[['x', 'y']] = bs_projection.values\n",
    "bs_df.to_csv('bs.csv', index = False)"
   ]
  },
  {
   "cell_type": "code",
   "execution_count": null,
   "id": "f7d1b6ed",
   "metadata": {},
   "outputs": [],
   "source": []
  },
  {
   "cell_type": "code",
   "execution_count": null,
   "id": "a1c56397",
   "metadata": {},
   "outputs": [],
   "source": []
  },
  {
   "cell_type": "code",
   "execution_count": null,
   "id": "af235c62",
   "metadata": {},
   "outputs": [],
   "source": []
  },
  {
   "cell_type": "code",
   "execution_count": null,
   "id": "84081b94",
   "metadata": {},
   "outputs": [],
   "source": [
    "result_df['year'].shape"
   ]
  },
  {
   "cell_type": "code",
   "execution_count": null,
   "id": "70904f73",
   "metadata": {},
   "outputs": [],
   "source": []
  }
 ],
 "metadata": {
  "kernelspec": {
   "display_name": "Python 3 (ipykernel)",
   "language": "python",
   "name": "python3"
  },
  "language_info": {
   "codemirror_mode": {
    "name": "ipython",
    "version": 3
   },
   "file_extension": ".py",
   "mimetype": "text/x-python",
   "name": "python",
   "nbconvert_exporter": "python",
   "pygments_lexer": "ipython3",
   "version": "3.9.7"
  }
 },
 "nbformat": 4,
 "nbformat_minor": 5
}
